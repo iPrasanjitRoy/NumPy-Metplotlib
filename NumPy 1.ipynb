{
 "cells": [
  {
   "cell_type": "code",
   "execution_count": 34,
   "id": "80d1d84c-0504-4115-aef7-edd2aa8ea8a5",
   "metadata": {},
   "outputs": [
    {
     "name": "stdout",
     "output_type": "stream",
     "text": [
      "[1 2 3 4]\n",
      "<class 'numpy.ndarray'>\n"
     ]
    }
   ],
   "source": [
    "import numpy as np\n",
    "mylist = [1, 2, 3, 4]\n",
    "array = np.array(mylist)\n",
    "print(array)\n",
    "print(type(array))\n"
   ]
  },
  {
   "cell_type": "code",
   "execution_count": 35,
   "id": "139f372c-acd5-431f-af9b-afdaa1382683",
   "metadata": {},
   "outputs": [
    {
     "data": {
      "text/plain": [
       "array([[1, 2],\n",
       "       [3, 4]])"
      ]
     },
     "execution_count": 35,
     "metadata": {},
     "output_type": "execute_result"
    }
   ],
   "source": [
    "np.array([[1,2] ,[3,4]])\n"
   ]
  },
  {
   "cell_type": "code",
   "execution_count": 36,
   "id": "0e6589f8-bf9a-4bc3-afe6-4e723cb38cad",
   "metadata": {},
   "outputs": [
    {
     "data": {
      "text/plain": [
       "array([1, 2, 3, 4])"
      ]
     },
     "execution_count": 36,
     "metadata": {},
     "output_type": "execute_result"
    }
   ],
   "source": [
    "np.asarray(mylist)"
   ]
  },
  {
   "cell_type": "code",
   "execution_count": 37,
   "id": "5bdb782e-30a0-4264-80ea-21c39ec1b57b",
   "metadata": {},
   "outputs": [
    {
     "data": {
      "text/plain": [
       "array([2, 3, 4])"
      ]
     },
     "execution_count": 37,
     "metadata": {},
     "output_type": "execute_result"
    }
   ],
   "source": [
    "a = [2,3,4]\n",
    "np.asanyarray(a)"
   ]
  },
  {
   "cell_type": "code",
   "execution_count": 38,
   "id": "4f52d2fe-d800-49bf-b4c5-8c6dbe3d35ad",
   "metadata": {},
   "outputs": [
    {
     "data": {
      "text/plain": [
       "matrix([[1, 2, 3, 4]])"
      ]
     },
     "execution_count": 38,
     "metadata": {},
     "output_type": "execute_result"
    }
   ],
   "source": [
    "b = np.matrix(mylist)\n",
    "b\n",
    "# Array Can Be Convert Into Matrix Its Subset Of Array\n",
    "# Matrix Cannot Convert Into Array "
   ]
  },
  {
   "cell_type": "code",
   "execution_count": 39,
   "id": "8acd3237-f5a7-41be-a479-8160a5af6844",
   "metadata": {},
   "outputs": [
    {
     "name": "stdout",
     "output_type": "stream",
     "text": [
      "Original Array: [1 2 3 4 5]\n",
      "Copied Array: [100   2   3   4   5]\n"
     ]
    }
   ],
   "source": [
    "# NumPy Copy Example:\n",
    "# Create an original NumPy array\n",
    "original_array = np.array([1, 2, 3, 4, 5]) \n",
    "\n",
    "# Create a copy of the original array\n",
    "copied_array = original_array.copy()\n",
    "\n",
    "# Modify the copied array\n",
    "copied_array[0] = 100\n",
    "\n",
    "# Print both arrays\n",
    "print(\"Original Array:\", original_array)\n",
    "print(\"Copied Array:\", copied_array)\n"
   ]
  },
  {
   "cell_type": "code",
   "execution_count": 40,
   "id": "11e74284-7fb7-41e5-9fe6-933c54908a6b",
   "metadata": {},
   "outputs": [
    {
     "name": "stdout",
     "output_type": "stream",
     "text": [
      "Original Array: [100   2   3   4   5]\n",
      "View Array: [100   2   3   4   5]\n"
     ]
    }
   ],
   "source": [
    "# NumPy View Example:\n",
    "# Create an original NumPy array\n",
    "original_array = np.array([1, 2, 3, 4, 5])\n",
    "\n",
    "# Create a view of the original array \n",
    "view_array = original_array.view()\n",
    "\n",
    "# Modify the view array\n",
    "view_array[0] = 100\n",
    "\n",
    "# Print both arrays\n",
    "print(\"Original Array:\", original_array)\n",
    "print(\"View Array:\", view_array)\n"
   ]
  },
  {
   "cell_type": "code",
   "execution_count": 41,
   "id": "029e9766-6b1b-4136-af00-66e9fea9f584",
   "metadata": {},
   "outputs": [
    {
     "name": "stdout",
     "output_type": "stream",
     "text": [
      "[[ True False False]\n",
      " [False  True False]\n",
      " [False False  True]]\n"
     ]
    }
   ],
   "source": [
    "# Import the NumPy library and alias it as 'np' for convenience\n",
    "import numpy as np\n",
    "\n",
    "# Use np.fromfunction() to create a 3x3 NumPy array based on a specified function.\n",
    "# In this case, the function is a lambda function that takes two parameters 'i' and 'j',\n",
    "# representing the row and column indices of the array, respectively.\n",
    "# The lambda function returns True if 'i' is equal to 'j', and False otherwise.\n",
    "result = np.fromfunction(lambda i, j: i == j, (3, 3))\n",
    "\n",
    "# Print the resulting NumPy array\n",
    "print(result)\n"
   ]
  },
  {
   "cell_type": "code",
   "execution_count": 42,
   "id": "acb94534-d20c-4626-bc0b-ebe78720ca32",
   "metadata": {},
   "outputs": [
    {
     "data": {
      "text/plain": [
       "array([[0., 0., 0.],\n",
       "       [0., 1., 2.],\n",
       "       [0., 2., 4.]])"
      ]
     },
     "execution_count": 42,
     "metadata": {},
     "output_type": "execute_result"
    }
   ],
   "source": [
    "np.fromfunction(lambda i, j : i*j , (3,3))"
   ]
  },
  {
   "cell_type": "code",
   "execution_count": 43,
   "id": "70788dbe-c375-4ee7-a462-4061095b13d1",
   "metadata": {},
   "outputs": [
    {
     "name": "stdout",
     "output_type": "stream",
     "text": [
      "[ 0  1  4  9 16]\n"
     ]
    }
   ],
   "source": [
    "# Define a generator expression named 'iterable'\n",
    "# The generator expression generates the square of each number in the range from 0 to 4 (inclusive)\n",
    "# The syntax (i*i for i in range(5)) generates square of i for each i in the range 0 to 4.\n",
    "# The generator expression is not evaluated immediately; it will produce the values on-demand.\n",
    "iterable = (i*i for i in range(5))\n",
    "\n",
    "# Create a NumPy array from the 'iterable' using np.fromiter()\n",
    "# The 'np.fromiter()' function creates a NumPy array from an iterable (in this case, the generator expression).\n",
    "# The second argument 'float' specifies the data type of the resulting NumPy array as 'float'.\n",
    "# The generated values from the iterable will be converted to float before creating the array.\n",
    "result_array = np.fromiter(iterable, int)\n",
    "\n",
    "# Print the resulting NumPy array\n",
    "print(result_array)\n"
   ]
  },
  {
   "cell_type": "code",
   "execution_count": 46,
   "id": "fb92a42c-1476-4627-ab3e-567cc986dc20",
   "metadata": {},
   "outputs": [
    {
     "data": {
      "text/plain": [
       "array([4, 5])"
      ]
     },
     "execution_count": 46,
     "metadata": {},
     "output_type": "execute_result"
    }
   ],
   "source": [
    "# The 'sep=','' argument specifies that the numbers are separated by commas in the string. \n",
    "np.fromstring('4,5' , sep= ',', dtype=int)"
   ]
  },
  {
   "cell_type": "code",
   "execution_count": 50,
   "id": "810e4f3d-72af-40bc-8d6a-eee52f01d9f9",
   "metadata": {},
   "outputs": [
    {
     "name": "stdout",
     "output_type": "stream",
     "text": [
      "[[1 2 3]\n",
      " [4 5 6]]\n",
      "Number of Dimensions: 2\n",
      "Total Number of Elements: 6\n",
      "Shape of the Array: (2, 3)\n"
     ]
    }
   ],
   "source": [
    "# Create a 2-dimensional NumPy array\n",
    "# Here, we are creating a 2x3 array\n",
    "\n",
    "my_array = np.array([[1, 2, 3], [4, 5, 6]])\n",
    "print(my_array) \n",
    "\n",
    "print(\"Number of Dimensions:\", my_array.ndim) \n",
    "\n",
    "print(\"Total Number of Elements:\", my_array.size)\n",
    "\n",
    "print(\"Shape of the Array:\", my_array.shape)\n"
   ]
  },
  {
   "cell_type": "code",
   "execution_count": 51,
   "id": "2b78f444-39cc-43a1-9b84-0b218fdb044e",
   "metadata": {},
   "outputs": [
    {
     "name": "stdout",
     "output_type": "stream",
     "text": [
      "[[[ 1  2]\n",
      "  [ 3  4]]\n",
      "\n",
      " [[ 5  6]\n",
      "  [ 7  8]]\n",
      "\n",
      " [[ 9 10]\n",
      "  [11 12]]]\n",
      "Number of Dimensions: 3\n"
     ]
    }
   ],
   "source": [
    "import numpy as np\n",
    "\n",
    "# Create a 3-dimensional NumPy array using nested lists\n",
    "three_dim_array = np.array([[[1, 2], [3, 4]], \n",
    "                            [[5, 6], [7, 8]], \n",
    "                            [[9, 10], [11, 12]]])\n",
    "\n",
    "# Print the 3-dimensional array\n",
    "print(three_dim_array)\n",
    "\n",
    "print(\"Number of Dimensions:\", three_dim_array.ndim)\n"
   ]
  },
  {
   "cell_type": "code",
   "execution_count": 54,
   "id": "f24e3e54-d909-4238-9b72-71d5d486cfe3",
   "metadata": {},
   "outputs": [
    {
     "name": "stdout",
     "output_type": "stream",
     "text": [
      "int64\n",
      "float64\n",
      "<U21\n"
     ]
    }
   ],
   "source": [
    "MyArray1 = np.array([(1,45,45) , (23,45,66)])\n",
    "MyArray2 = np.array([(1.5,45,45) , (23,45,66)])\n",
    "MyArray3 = np.array([('ROY',45,45) , (23,45,66)])\n",
    "\n",
    "print(MyArray1.dtype)\n",
    "print(MyArray2.dtype)\n",
    "print(MyArray3.dtype) \n",
    "\n",
    "#One Data Can Can Change The Other Datas "
   ]
  },
  {
   "cell_type": "code",
   "execution_count": 64,
   "id": "a5c17613-630b-45b9-905b-5011f36e36eb",
   "metadata": {},
   "outputs": [
    {
     "name": "stdout",
     "output_type": "stream",
     "text": [
      "[0 2 4 6 8]\n",
      "[0.5, 5.5, 10.5, 15.5]\n",
      "[50, 51, 52, 53, 54, 55, 56, 57, 58, 59, 60, 61, 62, 63, 64, 65, 66, 67, 68, 69, 70, 71, 72, 73, 74, 75, 76, 77, 78, 79, 80, 81, 82, 83, 84, 85, 86, 87, 88, 89, 90, 91, 92, 93, 94, 95, 96, 97, 98, 99, 100]\n"
     ]
    }
   ],
   "source": [
    "# Create an array using np.arange()\n",
    "# It will generate values from 0 up to (but not including) 10 with a step size of 2 \n",
    "# The resulting array will be [0, 2, 4, 6, 8] \n",
    "result_array = np.arange(0, 10, 2)\n",
    "result_array_flot = list(np.arange(0.5, 20.5, 5)) \n",
    "# Print the resulting array\n",
    "print(result_array)\n",
    "print(result_array_flot) \n",
    "\n",
    "# float Cant Perform In Core Python \n",
    "my_range = range(50,101)  \n",
    "\n",
    "# Convert the range object to a list to see the values\n",
    "print(list(my_range))\n"
   ]
  },
  {
   "cell_type": "code",
   "execution_count": 66,
   "id": "ebf9e5de-96d2-49c1-975e-f912a829f519",
   "metadata": {},
   "outputs": [
    {
     "name": "stdout",
     "output_type": "stream",
     "text": [
      "[1.         1.44444444 1.88888889 2.33333333 2.77777778 3.22222222\n",
      " 3.66666667 4.11111111 4.55555556 5.        ]\n"
     ]
    }
   ],
   "source": [
    "# Create an array using np.linspace()\n",
    "# It will generate 10 equally spaced values between 1 and 5 (inclusive) \n",
    "result_array = np.linspace(1, 5, 10) \n",
    "\n",
    "print(result_array)\n"
   ]
  },
  {
   "cell_type": "code",
   "execution_count": 70,
   "id": "3188e29f-b9d0-40f3-a24e-97b32d779bf9",
   "metadata": {},
   "outputs": [
    {
     "name": "stdout",
     "output_type": "stream",
     "text": [
      "Zeros Array:\n",
      "[0. 0. 0. 0. 0.]\n",
      "\n",
      "Zeros 2D Array:\n",
      "[[0 0 0 0]\n",
      " [0 0 0 0]\n",
      " [0 0 0 0]]\n",
      "\n",
      "Ones Array:\n",
      "[1. 1. 1.]\n",
      "\n",
      "Ones 3D Array:\n",
      "[[[1 1]\n",
      "  [1 1]\n",
      "  [1 1]]\n",
      "\n",
      " [[1 1]\n",
      "  [1 1]\n",
      "  [1 1]]]\n"
     ]
    }
   ],
   "source": [
    "# Example using np.zeros()\n",
    "# Create a 1-dimensional array with 5 elements, filled with zeros (default dtype=float64)\n",
    "zeros_array = np.zeros(5)\n",
    "print(\"Zeros Array:\")\n",
    "print(zeros_array) \n",
    "\n",
    "# Create a 2-dimensional array with 3 rows and 4 columns, filled with zeros of integer data type\n",
    "zeros_2d_array = np.zeros((3, 4), dtype=int)\n",
    "print(\"\\nZeros 2D Array:\")\n",
    "print(zeros_2d_array)\n",
    "\n",
    "# Example using np.ones()\n",
    "# Create a 1-dimensional array with 3 elements, filled with ones (default dtype=float64)\n",
    "ones_array = np.ones(3)\n",
    "print(\"\\nOnes Array:\")\n",
    "print(ones_array)\n",
    "\n",
    "# Create a 3-dimensional array with shape (2, 3, 2), filled with ones of integer data type\n",
    "ones_3d_array = np.ones((2, 3, 2), dtype=int)\n",
    "print(\"\\nOnes 3D Array:\")\n",
    "print(ones_3d_array)\n"
   ]
  },
  {
   "cell_type": "code",
   "execution_count": 74,
   "id": "794d94a0-1d25-42fd-9271-0fe326be3b2d",
   "metadata": {},
   "outputs": [
    {
     "data": {
      "text/plain": [
       "array([[[6, 6],\n",
       "        [6, 6],\n",
       "        [6, 6]],\n",
       "\n",
       "       [[6, 6],\n",
       "        [6, 6],\n",
       "        [6, 6]]])"
      ]
     },
     "execution_count": 74,
     "metadata": {},
     "output_type": "execute_result"
    }
   ],
   "source": [
    "Sum  = np.ones((2,3,2), dtype=int)\n",
    "Sum + 5 "
   ]
  },
  {
   "cell_type": "code",
   "execution_count": 75,
   "id": "819c12a1-9aaf-4827-9ab8-815a47a8d640",
   "metadata": {},
   "outputs": [
    {
     "data": {
      "text/plain": [
       "array([[[5, 5],\n",
       "        [5, 5],\n",
       "        [5, 5]],\n",
       "\n",
       "       [[5, 5],\n",
       "        [5, 5],\n",
       "        [5, 5]]])"
      ]
     },
     "execution_count": 75,
     "metadata": {},
     "output_type": "execute_result"
    }
   ],
   "source": [
    "Into  = np.ones((2,3,2), dtype=int)\n",
    "Into * 5 "
   ]
  },
  {
   "cell_type": "code",
   "execution_count": 77,
   "id": "8eab32e0-1ea2-4713-aeda-cdf1886c3fb2",
   "metadata": {},
   "outputs": [
    {
     "name": "stdout",
     "output_type": "stream",
     "text": [
      "Empty Array:\n",
      "[[1.14081005e-313 0.00000000e+000 1.01855798e-312 9.54898106e-313]\n",
      " [1.20953760e-312 1.01855798e-312 1.23075756e-312 1.01855798e-312]\n",
      " [1.10343781e-312 9.76118064e-313 1.12465777e-312 1.90979621e-312]]\n"
     ]
    }
   ],
   "source": [
    "# Example using np.empty()\n",
    "# Create a 2-dimensional array with shape (3, 4) filled with uninitialized values\n",
    "empty_array = np.empty((3, 4))\n",
    "print(\"Empty Array:\")\n",
    "print(empty_array) \n",
    "# The np.empty() function creates a new array with the specified shape, but the content of the array is not initialized.\n",
    "# The elements of the array can have any random values depending on the memory state when the array is created.\n",
    "# Use np.empty() when you need an array of a specific shape, but you don't require the initial values to be set. "
   ]
  },
  {
   "cell_type": "code",
   "execution_count": 80,
   "id": "9f0c9b39-2e12-49c1-8751-c83123d8dab8",
   "metadata": {},
   "outputs": [
    {
     "name": "stdout",
     "output_type": "stream",
     "text": [
      "Identity Matrix:\n",
      "[[1. 0. 0.]\n",
      " [0. 1. 0.]\n",
      " [0. 0. 1.]]\n"
     ]
    }
   ],
   "source": [
    "# Example using np.eye()\n",
    "# Create a 3x3 identity matrix\n",
    "identity_matrix = np.eye(3)\n",
    "print(\"Identity Matrix:\")\n",
    "print(identity_matrix)\n",
    "\n",
    "# The np.eye() function creates an identity matrix, which is a square matrix with ones on the main diagonal and zeros elsewhere."
   ]
  },
  {
   "cell_type": "code",
   "execution_count": 90,
   "id": "11c5ea6e-3add-4c3f-a945-ae3cf9f60c39",
   "metadata": {},
   "outputs": [
    {
     "name": "stdout",
     "output_type": "stream",
     "text": [
      "Logarithmic Space Array:\n",
      "[1.00000000e+01 2.78255940e+01 7.74263683e+01 2.15443469e+02\n",
      " 5.99484250e+02 1.66810054e+03 4.64158883e+03 1.29154967e+04\n",
      " 3.59381366e+04 1.00000000e+05]\n"
     ]
    }
   ],
   "source": [
    "# Example using np.logspace()\n",
    "logspace_array = np.logspace(1, 5, 10)\n",
    "\n",
    "\n",
    "print(\"Logarithmic Space Array:\")\n",
    "print(logspace_array)\n"
   ]
  },
  {
   "cell_type": "code",
   "execution_count": 99,
   "id": "8c02adc0-6409-465e-b2a6-7f36305f4679",
   "metadata": {},
   "outputs": [
    {
     "name": "stdout",
     "output_type": "stream",
     "text": [
      "Random Array from Standard Normal Distribution:\n",
      "[[-0.81787119  0.85489774 -0.62741927  1.20903274]\n",
      " [ 1.57552603  0.74517919  0.03871229  0.94781006]\n",
      " [-0.57012319  0.76182967 -2.2689599  -0.0288614 ]]\n"
     ]
    }
   ],
   "source": [
    "# Example using random.randn\n",
    "random_array = np.random.randn(3,4) \n",
    "print(\"Random Array from Standard Normal Distribution:\")\n",
    "print(random_array)\n"
   ]
  },
  {
   "cell_type": "code",
   "execution_count": 100,
   "id": "1ac5b39f-518e-4f29-8dfb-1bb02c837fde",
   "metadata": {},
   "outputs": [
    {
     "data": {
      "text/html": [
       "<div>\n",
       "<style scoped>\n",
       "    .dataframe tbody tr th:only-of-type {\n",
       "        vertical-align: middle;\n",
       "    }\n",
       "\n",
       "    .dataframe tbody tr th {\n",
       "        vertical-align: top;\n",
       "    }\n",
       "\n",
       "    .dataframe thead th {\n",
       "        text-align: right;\n",
       "    }\n",
       "</style>\n",
       "<table border=\"1\" class=\"dataframe\">\n",
       "  <thead>\n",
       "    <tr style=\"text-align: right;\">\n",
       "      <th></th>\n",
       "      <th>0</th>\n",
       "      <th>1</th>\n",
       "      <th>2</th>\n",
       "      <th>3</th>\n",
       "    </tr>\n",
       "  </thead>\n",
       "  <tbody>\n",
       "    <tr>\n",
       "      <th>0</th>\n",
       "      <td>-0.817871</td>\n",
       "      <td>0.854898</td>\n",
       "      <td>-0.627419</td>\n",
       "      <td>1.209033</td>\n",
       "    </tr>\n",
       "    <tr>\n",
       "      <th>1</th>\n",
       "      <td>1.575526</td>\n",
       "      <td>0.745179</td>\n",
       "      <td>0.038712</td>\n",
       "      <td>0.947810</td>\n",
       "    </tr>\n",
       "    <tr>\n",
       "      <th>2</th>\n",
       "      <td>-0.570123</td>\n",
       "      <td>0.761830</td>\n",
       "      <td>-2.268960</td>\n",
       "      <td>-0.028861</td>\n",
       "    </tr>\n",
       "  </tbody>\n",
       "</table>\n",
       "</div>"
      ],
      "text/plain": [
       "          0         1         2         3\n",
       "0 -0.817871  0.854898 -0.627419  1.209033\n",
       "1  1.575526  0.745179  0.038712  0.947810\n",
       "2 -0.570123  0.761830 -2.268960 -0.028861"
      ]
     },
     "execution_count": 100,
     "metadata": {},
     "output_type": "execute_result"
    }
   ],
   "source": [
    "import pandas as pd \n",
    "pd.DataFrame(random_array) "
   ]
  },
  {
   "cell_type": "code",
   "execution_count": 101,
   "id": "65ec237f-3132-40dd-95cc-8b5995310d0c",
   "metadata": {},
   "outputs": [
    {
     "data": {
      "text/plain": [
       "array([[0.86474544, 0.90819282, 0.07947385, 0.85643072],\n",
       "       [0.05921113, 0.29983768, 0.46470159, 0.35892216],\n",
       "       [0.14929236, 0.86181358, 0.39731731, 0.78220289]])"
      ]
     },
     "execution_count": 101,
     "metadata": {},
     "output_type": "execute_result"
    }
   ],
   "source": [
    "np.random.rand(3,4)\n"
   ]
  },
  {
   "cell_type": "code",
   "execution_count": 102,
   "id": "0b7f238b-f33b-4128-ba51-53929ea710ed",
   "metadata": {},
   "outputs": [
    {
     "data": {
      "text/plain": [
       "array([[  4,  99, 101, ...,  74,  69, 106],\n",
       "       [ 37,  96,  14, ...,  33,   3,  12],\n",
       "       [ 73,  99,  50, ...,  83,  38,  97],\n",
       "       ...,\n",
       "       [ 45,  67,  36, ...,  50,  26,  24],\n",
       "       [ 80,  96,  66, ...,  35,  62,  78],\n",
       "       [104,  79,  57, ...,  87,  89,  66]])"
      ]
     },
     "execution_count": 102,
     "metadata": {},
     "output_type": "execute_result"
    }
   ],
   "source": [
    "np.random.randint(1,110 , (300,400))"
   ]
  },
  {
   "cell_type": "code",
   "execution_count": 103,
   "id": "9472f564-52e5-40c8-aa6d-68b466e091ca",
   "metadata": {},
   "outputs": [
    {
     "data": {
      "text/html": [
       "<div>\n",
       "<style scoped>\n",
       "    .dataframe tbody tr th:only-of-type {\n",
       "        vertical-align: middle;\n",
       "    }\n",
       "\n",
       "    .dataframe tbody tr th {\n",
       "        vertical-align: top;\n",
       "    }\n",
       "\n",
       "    .dataframe thead th {\n",
       "        text-align: right;\n",
       "    }\n",
       "</style>\n",
       "<table border=\"1\" class=\"dataframe\">\n",
       "  <thead>\n",
       "    <tr style=\"text-align: right;\">\n",
       "      <th></th>\n",
       "      <th>0</th>\n",
       "      <th>1</th>\n",
       "      <th>2</th>\n",
       "      <th>3</th>\n",
       "      <th>4</th>\n",
       "      <th>5</th>\n",
       "      <th>6</th>\n",
       "      <th>7</th>\n",
       "      <th>8</th>\n",
       "      <th>9</th>\n",
       "      <th>...</th>\n",
       "      <th>390</th>\n",
       "      <th>391</th>\n",
       "      <th>392</th>\n",
       "      <th>393</th>\n",
       "      <th>394</th>\n",
       "      <th>395</th>\n",
       "      <th>396</th>\n",
       "      <th>397</th>\n",
       "      <th>398</th>\n",
       "      <th>399</th>\n",
       "    </tr>\n",
       "  </thead>\n",
       "  <tbody>\n",
       "    <tr>\n",
       "      <th>0</th>\n",
       "      <td>5</td>\n",
       "      <td>97</td>\n",
       "      <td>102</td>\n",
       "      <td>41</td>\n",
       "      <td>93</td>\n",
       "      <td>107</td>\n",
       "      <td>9</td>\n",
       "      <td>98</td>\n",
       "      <td>99</td>\n",
       "      <td>92</td>\n",
       "      <td>...</td>\n",
       "      <td>80</td>\n",
       "      <td>88</td>\n",
       "      <td>67</td>\n",
       "      <td>28</td>\n",
       "      <td>76</td>\n",
       "      <td>33</td>\n",
       "      <td>95</td>\n",
       "      <td>21</td>\n",
       "      <td>43</td>\n",
       "      <td>28</td>\n",
       "    </tr>\n",
       "    <tr>\n",
       "      <th>1</th>\n",
       "      <td>78</td>\n",
       "      <td>8</td>\n",
       "      <td>38</td>\n",
       "      <td>104</td>\n",
       "      <td>62</td>\n",
       "      <td>106</td>\n",
       "      <td>20</td>\n",
       "      <td>3</td>\n",
       "      <td>49</td>\n",
       "      <td>73</td>\n",
       "      <td>...</td>\n",
       "      <td>81</td>\n",
       "      <td>40</td>\n",
       "      <td>62</td>\n",
       "      <td>57</td>\n",
       "      <td>46</td>\n",
       "      <td>30</td>\n",
       "      <td>90</td>\n",
       "      <td>23</td>\n",
       "      <td>19</td>\n",
       "      <td>21</td>\n",
       "    </tr>\n",
       "    <tr>\n",
       "      <th>2</th>\n",
       "      <td>36</td>\n",
       "      <td>65</td>\n",
       "      <td>37</td>\n",
       "      <td>33</td>\n",
       "      <td>46</td>\n",
       "      <td>70</td>\n",
       "      <td>62</td>\n",
       "      <td>100</td>\n",
       "      <td>107</td>\n",
       "      <td>62</td>\n",
       "      <td>...</td>\n",
       "      <td>89</td>\n",
       "      <td>52</td>\n",
       "      <td>19</td>\n",
       "      <td>46</td>\n",
       "      <td>101</td>\n",
       "      <td>105</td>\n",
       "      <td>62</td>\n",
       "      <td>59</td>\n",
       "      <td>38</td>\n",
       "      <td>22</td>\n",
       "    </tr>\n",
       "    <tr>\n",
       "      <th>3</th>\n",
       "      <td>78</td>\n",
       "      <td>85</td>\n",
       "      <td>96</td>\n",
       "      <td>92</td>\n",
       "      <td>50</td>\n",
       "      <td>79</td>\n",
       "      <td>28</td>\n",
       "      <td>76</td>\n",
       "      <td>35</td>\n",
       "      <td>53</td>\n",
       "      <td>...</td>\n",
       "      <td>64</td>\n",
       "      <td>3</td>\n",
       "      <td>93</td>\n",
       "      <td>106</td>\n",
       "      <td>53</td>\n",
       "      <td>79</td>\n",
       "      <td>58</td>\n",
       "      <td>75</td>\n",
       "      <td>65</td>\n",
       "      <td>33</td>\n",
       "    </tr>\n",
       "    <tr>\n",
       "      <th>4</th>\n",
       "      <td>72</td>\n",
       "      <td>34</td>\n",
       "      <td>54</td>\n",
       "      <td>36</td>\n",
       "      <td>90</td>\n",
       "      <td>72</td>\n",
       "      <td>73</td>\n",
       "      <td>106</td>\n",
       "      <td>70</td>\n",
       "      <td>76</td>\n",
       "      <td>...</td>\n",
       "      <td>29</td>\n",
       "      <td>93</td>\n",
       "      <td>106</td>\n",
       "      <td>57</td>\n",
       "      <td>88</td>\n",
       "      <td>22</td>\n",
       "      <td>12</td>\n",
       "      <td>69</td>\n",
       "      <td>77</td>\n",
       "      <td>92</td>\n",
       "    </tr>\n",
       "    <tr>\n",
       "      <th>...</th>\n",
       "      <td>...</td>\n",
       "      <td>...</td>\n",
       "      <td>...</td>\n",
       "      <td>...</td>\n",
       "      <td>...</td>\n",
       "      <td>...</td>\n",
       "      <td>...</td>\n",
       "      <td>...</td>\n",
       "      <td>...</td>\n",
       "      <td>...</td>\n",
       "      <td>...</td>\n",
       "      <td>...</td>\n",
       "      <td>...</td>\n",
       "      <td>...</td>\n",
       "      <td>...</td>\n",
       "      <td>...</td>\n",
       "      <td>...</td>\n",
       "      <td>...</td>\n",
       "      <td>...</td>\n",
       "      <td>...</td>\n",
       "      <td>...</td>\n",
       "    </tr>\n",
       "    <tr>\n",
       "      <th>295</th>\n",
       "      <td>20</td>\n",
       "      <td>98</td>\n",
       "      <td>33</td>\n",
       "      <td>71</td>\n",
       "      <td>56</td>\n",
       "      <td>109</td>\n",
       "      <td>31</td>\n",
       "      <td>67</td>\n",
       "      <td>53</td>\n",
       "      <td>69</td>\n",
       "      <td>...</td>\n",
       "      <td>47</td>\n",
       "      <td>38</td>\n",
       "      <td>97</td>\n",
       "      <td>71</td>\n",
       "      <td>6</td>\n",
       "      <td>61</td>\n",
       "      <td>78</td>\n",
       "      <td>13</td>\n",
       "      <td>2</td>\n",
       "      <td>14</td>\n",
       "    </tr>\n",
       "    <tr>\n",
       "      <th>296</th>\n",
       "      <td>72</td>\n",
       "      <td>13</td>\n",
       "      <td>43</td>\n",
       "      <td>42</td>\n",
       "      <td>29</td>\n",
       "      <td>57</td>\n",
       "      <td>25</td>\n",
       "      <td>77</td>\n",
       "      <td>38</td>\n",
       "      <td>16</td>\n",
       "      <td>...</td>\n",
       "      <td>50</td>\n",
       "      <td>39</td>\n",
       "      <td>49</td>\n",
       "      <td>76</td>\n",
       "      <td>1</td>\n",
       "      <td>71</td>\n",
       "      <td>69</td>\n",
       "      <td>108</td>\n",
       "      <td>61</td>\n",
       "      <td>79</td>\n",
       "    </tr>\n",
       "    <tr>\n",
       "      <th>297</th>\n",
       "      <td>4</td>\n",
       "      <td>15</td>\n",
       "      <td>61</td>\n",
       "      <td>63</td>\n",
       "      <td>45</td>\n",
       "      <td>83</td>\n",
       "      <td>7</td>\n",
       "      <td>47</td>\n",
       "      <td>24</td>\n",
       "      <td>78</td>\n",
       "      <td>...</td>\n",
       "      <td>52</td>\n",
       "      <td>26</td>\n",
       "      <td>8</td>\n",
       "      <td>53</td>\n",
       "      <td>22</td>\n",
       "      <td>64</td>\n",
       "      <td>16</td>\n",
       "      <td>10</td>\n",
       "      <td>73</td>\n",
       "      <td>78</td>\n",
       "    </tr>\n",
       "    <tr>\n",
       "      <th>298</th>\n",
       "      <td>101</td>\n",
       "      <td>85</td>\n",
       "      <td>51</td>\n",
       "      <td>101</td>\n",
       "      <td>43</td>\n",
       "      <td>76</td>\n",
       "      <td>28</td>\n",
       "      <td>104</td>\n",
       "      <td>87</td>\n",
       "      <td>109</td>\n",
       "      <td>...</td>\n",
       "      <td>53</td>\n",
       "      <td>91</td>\n",
       "      <td>77</td>\n",
       "      <td>54</td>\n",
       "      <td>47</td>\n",
       "      <td>44</td>\n",
       "      <td>25</td>\n",
       "      <td>84</td>\n",
       "      <td>20</td>\n",
       "      <td>65</td>\n",
       "    </tr>\n",
       "    <tr>\n",
       "      <th>299</th>\n",
       "      <td>75</td>\n",
       "      <td>42</td>\n",
       "      <td>22</td>\n",
       "      <td>96</td>\n",
       "      <td>7</td>\n",
       "      <td>32</td>\n",
       "      <td>46</td>\n",
       "      <td>60</td>\n",
       "      <td>1</td>\n",
       "      <td>74</td>\n",
       "      <td>...</td>\n",
       "      <td>86</td>\n",
       "      <td>39</td>\n",
       "      <td>24</td>\n",
       "      <td>104</td>\n",
       "      <td>48</td>\n",
       "      <td>32</td>\n",
       "      <td>88</td>\n",
       "      <td>46</td>\n",
       "      <td>79</td>\n",
       "      <td>75</td>\n",
       "    </tr>\n",
       "  </tbody>\n",
       "</table>\n",
       "<p>300 rows × 400 columns</p>\n",
       "</div>"
      ],
      "text/plain": [
       "     0    1    2    3    4    5    6    7    8    9    ...  390  391  392  \\\n",
       "0      5   97  102   41   93  107    9   98   99   92  ...   80   88   67   \n",
       "1     78    8   38  104   62  106   20    3   49   73  ...   81   40   62   \n",
       "2     36   65   37   33   46   70   62  100  107   62  ...   89   52   19   \n",
       "3     78   85   96   92   50   79   28   76   35   53  ...   64    3   93   \n",
       "4     72   34   54   36   90   72   73  106   70   76  ...   29   93  106   \n",
       "..   ...  ...  ...  ...  ...  ...  ...  ...  ...  ...  ...  ...  ...  ...   \n",
       "295   20   98   33   71   56  109   31   67   53   69  ...   47   38   97   \n",
       "296   72   13   43   42   29   57   25   77   38   16  ...   50   39   49   \n",
       "297    4   15   61   63   45   83    7   47   24   78  ...   52   26    8   \n",
       "298  101   85   51  101   43   76   28  104   87  109  ...   53   91   77   \n",
       "299   75   42   22   96    7   32   46   60    1   74  ...   86   39   24   \n",
       "\n",
       "     393  394  395  396  397  398  399  \n",
       "0     28   76   33   95   21   43   28  \n",
       "1     57   46   30   90   23   19   21  \n",
       "2     46  101  105   62   59   38   22  \n",
       "3    106   53   79   58   75   65   33  \n",
       "4     57   88   22   12   69   77   92  \n",
       "..   ...  ...  ...  ...  ...  ...  ...  \n",
       "295   71    6   61   78   13    2   14  \n",
       "296   76    1   71   69  108   61   79  \n",
       "297   53   22   64   16   10   73   78  \n",
       "298   54   47   44   25   84   20   65  \n",
       "299  104   48   32   88   46   79   75  \n",
       "\n",
       "[300 rows x 400 columns]"
      ]
     },
     "execution_count": 103,
     "metadata": {},
     "output_type": "execute_result"
    }
   ],
   "source": [
    "pd.DataFrame(np.random.randint(1,110 , (300,400)))"
   ]
  },
  {
   "cell_type": "code",
   "execution_count": 104,
   "id": "388cddb2-125b-413d-a3e3-0d935f332287",
   "metadata": {},
   "outputs": [],
   "source": [
    "pd.DataFrame(np.random.randint(1,110 , (300,400))).to_csv('Random.csv') "
   ]
  },
  {
   "cell_type": "code",
   "execution_count": 110,
   "id": "0840eb0d-7ed6-40ae-8a3d-82af49b2f584",
   "metadata": {},
   "outputs": [
    {
     "name": "stdout",
     "output_type": "stream",
     "text": [
      "Original Array:\n",
      "[[0.89873059 0.77075282 0.61718746 0.87998651]\n",
      " [0.44015285 0.8486074  0.38824548 0.43561566]\n",
      " [0.36506102 0.88768548 0.70428952 0.57300996]]\n",
      "\n",
      "Reshaped Array (6 rows, 2 columns):\n",
      "[[0.89873059 0.77075282]\n",
      " [0.61718746 0.87998651]\n",
      " [0.44015285 0.8486074 ]\n",
      " [0.38824548 0.43561566]\n",
      " [0.36506102 0.88768548]\n",
      " [0.70428952 0.57300996]]\n"
     ]
    }
   ],
   "source": [
    "# Create a 3x4 array filled with random numbers from a uniform distribution in the range [0, 1).\n",
    "array = np.random.rand(3, 4)\n",
    "print(\"Original Array:\")\n",
    "print(array)\n",
    "\n",
    "# Reshape the array to a new shape of (6, 2)\n",
    "reshaped_array = array.reshape(6, 2)\n",
    "print(\"\\nReshaped Array (6 rows, 2 columns):\")\n",
    "print(reshaped_array)\n"
   ]
  },
  {
   "cell_type": "code",
   "execution_count": 114,
   "id": "d29b8cf9-fa8d-4766-8269-da5e0c9ff9b5",
   "metadata": {},
   "outputs": [
    {
     "data": {
      "text/plain": [
       "array([0.8486074 , 0.43561566, 0.88768548])"
      ]
     },
     "execution_count": 114,
     "metadata": {},
     "output_type": "execute_result"
    }
   ],
   "source": [
    "reshaped_array[2:5,1]"
   ]
  },
  {
   "cell_type": "code",
   "execution_count": 121,
   "id": "a74709bd-5eb9-4fed-9614-b05ac497b6f1",
   "metadata": {},
   "outputs": [
    {
     "data": {
      "text/plain": [
       "array([[89, 93, 85, 37, 77],\n",
       "       [36, 49, 39, 20, 94],\n",
       "       [ 8, 93, 53, 49, 38],\n",
       "       [78, 64, 23, 18, 68],\n",
       "       [39, 68, 37, 27, 71]])"
      ]
     },
     "execution_count": 121,
     "metadata": {},
     "output_type": "execute_result"
    }
   ],
   "source": [
    "OurArray = np.random.randint(1,100 , (5,5))\n",
    "OurArray "
   ]
  },
  {
   "cell_type": "code",
   "execution_count": 122,
   "id": "eba76885-4efd-4be4-b19c-1846df06a847",
   "metadata": {},
   "outputs": [
    {
     "data": {
      "text/plain": [
       "array([[ True,  True,  True, False,  True],\n",
       "       [False, False, False, False,  True],\n",
       "       [False,  True,  True, False, False],\n",
       "       [ True,  True, False, False,  True],\n",
       "       [False,  True, False, False,  True]])"
      ]
     },
     "execution_count": 122,
     "metadata": {},
     "output_type": "execute_result"
    }
   ],
   "source": [
    "OurArray >50"
   ]
  },
  {
   "cell_type": "code",
   "execution_count": 123,
   "id": "eeaf531d-0a1c-4fb7-acb3-de9ccac72c8c",
   "metadata": {},
   "outputs": [
    {
     "data": {
      "text/plain": [
       "array([89, 93, 85, 77, 94, 93, 53, 78, 64, 68, 68, 71])"
      ]
     },
     "execution_count": 123,
     "metadata": {},
     "output_type": "execute_result"
    }
   ],
   "source": [
    "OurArray [OurArray >50]"
   ]
  },
  {
   "cell_type": "code",
   "execution_count": 125,
   "id": "2965cfce-e2a0-4de4-94f4-0c63c3dbf0d8",
   "metadata": {},
   "outputs": [
    {
     "data": {
      "text/plain": [
       "array([[93, 53],\n",
       "       [64, 23]])"
      ]
     },
     "execution_count": 125,
     "metadata": {},
     "output_type": "execute_result"
    }
   ],
   "source": [
    "OurArray[2:4 , [1,2]] "
   ]
  },
  {
   "cell_type": "code",
   "execution_count": 126,
   "id": "08df8e8e-e371-40d5-ba13-4d06b569210d",
   "metadata": {},
   "outputs": [
    {
     "name": "stdout",
     "output_type": "stream",
     "text": [
      "[[2 1 1]\n",
      " [1 2 1]\n",
      " [2 1 1]]\n",
      "[[2 1 2]\n",
      " [1 1 2]\n",
      " [1 1 1]]\n"
     ]
    }
   ],
   "source": [
    "A1 = np.random.randint(1,3 , (3,3))\n",
    "A2 = np.random.randint(1,3 , (3,3)) \n",
    "print(A1)\n",
    "print(A2) "
   ]
  },
  {
   "cell_type": "code",
   "execution_count": 128,
   "id": "cbd17f6e-cf6d-409d-bb4b-b58d2a9319bb",
   "metadata": {},
   "outputs": [
    {
     "data": {
      "text/plain": [
       "array([[4, 2, 3],\n",
       "       [2, 3, 3],\n",
       "       [3, 2, 2]])"
      ]
     },
     "execution_count": 128,
     "metadata": {},
     "output_type": "execute_result"
    }
   ],
   "source": [
    "A1+A2"
   ]
  },
  {
   "cell_type": "code",
   "execution_count": 129,
   "id": "c46dfff1-d452-422a-ab7c-9329ab49cf1c",
   "metadata": {},
   "outputs": [
    {
     "data": {
      "text/plain": [
       "array([[4, 1, 2],\n",
       "       [1, 2, 2],\n",
       "       [2, 1, 1]])"
      ]
     },
     "execution_count": 129,
     "metadata": {},
     "output_type": "execute_result"
    }
   ],
   "source": [
    "A1*A2"
   ]
  },
  {
   "cell_type": "code",
   "execution_count": 130,
   "id": "1329215f-f334-443d-84b1-9e7089643ccf",
   "metadata": {},
   "outputs": [
    {
     "data": {
      "text/plain": [
       "array([[1. , 1. , 0.5],\n",
       "       [1. , 2. , 0.5],\n",
       "       [2. , 1. , 1. ]])"
      ]
     },
     "execution_count": 130,
     "metadata": {},
     "output_type": "execute_result"
    }
   ],
   "source": [
    "A1/A2"
   ]
  },
  {
   "cell_type": "code",
   "execution_count": 132,
   "id": "925ba0f9-69fc-4a7f-a239-8c9a1bbbc1b5",
   "metadata": {},
   "outputs": [
    {
     "data": {
      "text/plain": [
       "array([[6, 4, 7],\n",
       "       [5, 4, 7],\n",
       "       [6, 4, 7]])"
      ]
     },
     "execution_count": 132,
     "metadata": {},
     "output_type": "execute_result"
    }
   ],
   "source": [
    "A1 @ A2"
   ]
  },
  {
   "cell_type": "code",
   "execution_count": 131,
   "id": "370ea729-dce3-40ca-a86b-3fb1a16f75c0",
   "metadata": {},
   "outputs": [
    {
     "name": "stdout",
     "output_type": "stream",
     "text": [
      "Matrix Multiplication using np.dot():\n",
      "[[ 58  64]\n",
      " [139 154]]\n",
      "\n",
      "Matrix Multiplication using @ operator:\n",
      "[[ 58  64]\n",
      " [139 154]]\n"
     ]
    }
   ],
   "source": [
    "# Colums Of 1 Matrix And Rows Of 2 Matrix Should Be Euqals For Matrix Multiplication \n",
    "\n",
    "# Define two 2x3 matrices as NumPy arrays\n",
    "matrix1 = np.array([[1, 2, 3],\n",
    "                    [4, 5, 6]])\n",
    "\n",
    "matrix2 = np.array([[7, 8],\n",
    "                    [9, 10],\n",
    "                    [11, 12]]) \n",
    "\n",
    "# Perform matrix multiplication using np.dot() or @ operator\n",
    "result_dot = np.dot(matrix1, matrix2)\n",
    "result_at_operator = matrix1 @ matrix2\n",
    "\n",
    "# Print the results\n",
    "print(\"Matrix Multiplication using np.dot():\")\n",
    "print(result_dot)\n",
    "\n",
    "print(\"\\nMatrix Multiplication using @ operator:\")\n",
    "print(result_at_operator)\n"
   ]
  },
  {
   "cell_type": "code",
   "execution_count": 133,
   "id": "a07071cf-d02b-495d-90d6-9f61ce498a7d",
   "metadata": {},
   "outputs": [
    {
     "name": "stdout",
     "output_type": "stream",
     "text": [
      "Result of Broadcasting:\n",
      "[[1. 2. 3. 4.]\n",
      " [1. 2. 3. 4.]\n",
      " [1. 2. 3. 4.]\n",
      " [1. 2. 3. 4.]]\n"
     ]
    }
   ],
   "source": [
    "# Broadcasting ----------------------------------------------------------------> \n",
    "\n",
    "# Define a 4x4 array filled with zeros \n",
    "array = np.zeros((4, 4)) \n",
    "\n",
    "# Define a 1-dimensional array \n",
    "row = np.array([1, 2, 3, 4])\n",
    "\n",
    "# Perform element-wise addition using broadcasting\n",
    "result = array + row\n",
    "\n",
    "# Print the result\n",
    "print(\"Result of Broadcasting:\")\n",
    "print(result)\n"
   ]
  },
  {
   "cell_type": "code",
   "execution_count": 134,
   "id": "6cdbbc6f-28a4-4a26-97d7-818079b665b7",
   "metadata": {},
   "outputs": [
    {
     "data": {
      "text/plain": [
       "array([[1],\n",
       "       [2],\n",
       "       [3],\n",
       "       [4]])"
      ]
     },
     "execution_count": 134,
     "metadata": {},
     "output_type": "execute_result"
    }
   ],
   "source": [
    "col = np.array([[1,2,3,4]])\n",
    "col.T "
   ]
  },
  {
   "cell_type": "code",
   "execution_count": 135,
   "id": "4d388b90-8eb7-48ae-9528-ec3dd80239dd",
   "metadata": {},
   "outputs": [
    {
     "data": {
      "text/plain": [
       "array([[1., 1., 1., 1.],\n",
       "       [2., 2., 2., 2.],\n",
       "       [3., 3., 3., 3.],\n",
       "       [4., 4., 4., 4.]])"
      ]
     },
     "execution_count": 135,
     "metadata": {},
     "output_type": "execute_result"
    }
   ],
   "source": [
    "col.T + array"
   ]
  },
  {
   "cell_type": "code",
   "execution_count": 136,
   "id": "e47f7a30-2e61-4c3a-8598-329b5baa1d43",
   "metadata": {},
   "outputs": [
    {
     "data": {
      "text/plain": [
       "array([[1, 2, 3, 2],\n",
       "       [3, 3, 1, 4],\n",
       "       [3, 3, 3, 4]])"
      ]
     },
     "execution_count": 136,
     "metadata": {},
     "output_type": "execute_result"
    }
   ],
   "source": [
    "MyArray = np.random.randint(1,5 , (3,4))\n",
    "MyArray"
   ]
  },
  {
   "cell_type": "code",
   "execution_count": 139,
   "id": "28c8394e-4299-413b-bedd-4ecb86cec645",
   "metadata": {},
   "outputs": [
    {
     "data": {
      "text/plain": [
       "array([[1.        , 1.41421356, 1.73205081, 1.41421356],\n",
       "       [1.73205081, 1.73205081, 1.        , 2.        ],\n",
       "       [1.73205081, 1.73205081, 1.73205081, 2.        ]])"
      ]
     },
     "execution_count": 139,
     "metadata": {},
     "output_type": "execute_result"
    }
   ],
   "source": [
    "np.sqrt(MyArray)"
   ]
  },
  {
   "cell_type": "code",
   "execution_count": 140,
   "id": "43bb705c-3cf6-4a53-87f7-f4c4da1bf8ee",
   "metadata": {},
   "outputs": [
    {
     "name": "stdout",
     "output_type": "stream",
     "text": [
      "Square Root of the Array:\n",
      "[2. 3. 4. 5. 6.]\n"
     ]
    }
   ],
   "source": [
    "# Define an array with some values\n",
    "ArrayXYZ = np.array([4, 9, 16, 25, 36])\n",
    "\n",
    "# Calculate the square root of the array elements\n",
    "result = np.sqrt(ArrayXYZ) \n",
    "\n",
    "# Print the result\n",
    "print(\"Square Root of the Array:\")\n",
    "print(result) "
   ]
  },
  {
   "cell_type": "code",
   "execution_count": null,
   "id": "b44cbcd7-b3eb-4456-a085-8ebd66efdc8a",
   "metadata": {},
   "outputs": [],
   "source": []
  }
 ],
 "metadata": {
  "kernelspec": {
   "display_name": "Python 3 (ipykernel)",
   "language": "python",
   "name": "python3"
  },
  "language_info": {
   "codemirror_mode": {
    "name": "ipython",
    "version": 3
   },
   "file_extension": ".py",
   "mimetype": "text/x-python",
   "name": "python",
   "nbconvert_exporter": "python",
   "pygments_lexer": "ipython3",
   "version": "3.10.8"
  }
 },
 "nbformat": 4,
 "nbformat_minor": 5
}
