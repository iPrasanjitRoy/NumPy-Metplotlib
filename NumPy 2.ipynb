{
 "cells": [
  {
   "cell_type": "code",
   "execution_count": 20,
   "id": "c1f1e5b9-2a24-47fe-8248-d638043cffb2",
   "metadata": {},
   "outputs": [
    {
     "name": "stdout",
     "output_type": "stream",
     "text": [
      "Flattened Array:\n",
      "[1 2 3 4 5 6]\n"
     ]
    }
   ],
   "source": [
    "import numpy as np\n",
    "\n",
    "# Create a 2-dimensional array\n",
    "arr = np.array([[1, 2, 3],\n",
    "                [4, 5, 6]])\n",
    "\n",
    "# Flatten the array to a 1-dimensional array \n",
    "flattened_array = arr.flatten()\n",
    "\n",
    "print(\"Flattened Array:\")\n",
    "print(flattened_array)\n"
   ]
  },
  {
   "cell_type": "code",
   "execution_count": 21,
   "id": "14f4b509-8121-4e01-b6a8-33225d51f60d",
   "metadata": {},
   "outputs": [
    {
     "name": "stdout",
     "output_type": "stream",
     "text": [
      "Expanded Array:\n",
      "[[1]\n",
      " [2]\n",
      " [3]]\n"
     ]
    }
   ],
   "source": [
    "# Create a 1-dimensional array\n",
    "arr = np.array([1, 2, 3])\n",
    "\n",
    "# Expand the dimensions of the array\n",
    "expanded_array = np.expand_dims(arr, axis=1)\n",
    "\n",
    "# Print the result\n",
    "print(\"Expanded Array:\")\n",
    "print(expanded_array)\n"
   ]
  },
  {
   "cell_type": "code",
   "execution_count": 22,
   "id": "81bbede8-5747-4d60-ae0a-433360487c2e",
   "metadata": {},
   "outputs": [
    {
     "name": "stdout",
     "output_type": "stream",
     "text": [
      "Squeezed Array:\n",
      "[1 2 3]\n"
     ]
    }
   ],
   "source": [
    "# Create a 1-dimensional array with size 1 in one of the dimensions\n",
    "arr = np.array([[1], [2], [3]]) \n",
    "\n",
    "# Squeeze the array to remove the single-dimensional entry\n",
    "squeezed_array = np.squeeze(arr)\n",
    "\n",
    "# Print the result\n",
    "print(\"Squeezed Array:\")\n",
    "print(squeezed_array)\n"
   ]
  },
  {
   "cell_type": "code",
   "execution_count": 23,
   "id": "1e5b12cf-7500-4fe2-ad2c-389ff7a552ba",
   "metadata": {},
   "outputs": [
    {
     "name": "stdout",
     "output_type": "stream",
     "text": [
      "Repeated Array:\n",
      "[1 1 1 2 2 2 3 3 3]\n"
     ]
    }
   ],
   "source": [
    "# Create a 1-dimensional array\n",
    "arr = np.array([1, 2, 3])\n",
    "\n",
    "# Repeat each element three times\n",
    "repeated_array = np.repeat(arr, repeats=3)\n",
    "\n",
    "# Print the result\n",
    "print(\"Repeated Array:\")\n",
    "print(repeated_array)\n"
   ]
  },
  {
   "cell_type": "code",
   "execution_count": 24,
   "id": "12fbab35-2399-4aef-827e-453297add734",
   "metadata": {},
   "outputs": [
    {
     "name": "stdout",
     "output_type": "stream",
     "text": [
      "Rolled Array:\n",
      "[5 1 2 3 4]\n"
     ]
    }
   ],
   "source": [
    "# Create a 1-dimensional array\n",
    "arr = np.array([1, 2, 3, 4, 5])\n",
    "\n",
    "# Roll the elements one position to the right\n",
    "rolled_array = np.roll(arr, shift=1)\n",
    "\n",
    "# Print the result\n",
    "print(\"Rolled Array:\")\n",
    "print(rolled_array)\n"
   ]
  },
  {
   "cell_type": "code",
   "execution_count": 25,
   "id": "cd317ce8-f722-49a6-9f80-41f6a9cc775e",
   "metadata": {},
   "outputs": [
    {
     "name": "stdout",
     "output_type": "stream",
     "text": [
      "Diagonal Elements:\n",
      "[[1 0 0 0 0]\n",
      " [0 2 0 0 0]\n",
      " [0 0 3 0 0]\n",
      " [0 0 0 4 0]\n",
      " [0 0 0 0 5]]\n"
     ]
    }
   ],
   "source": [
    "arr = np.array([1, 2, 3, 4, 5])\n",
    "\n",
    "# Extract the diagonal elements \n",
    "diagonal_elements = np.diag(arr)\n",
    "\n",
    "# Print the result\n",
    "print(\"Diagonal Elements:\")\n",
    "print(diagonal_elements)\n"
   ]
  },
  {
   "cell_type": "code",
   "execution_count": 26,
   "id": "d2a2e712-c437-45d2-beb3-fd761b32857a",
   "metadata": {},
   "outputs": [
    {
     "data": {
      "text/plain": [
       "array(['PRASANJIT', 'ROY'], dtype='<U9')"
      ]
     },
     "execution_count": 26,
     "metadata": {},
     "output_type": "execute_result"
    }
   ],
   "source": [
    "arr = np.array(['Prasanjit' , \"Roy\"])\n",
    "np.char.upper(arr) "
   ]
  },
  {
   "cell_type": "code",
   "execution_count": 27,
   "id": "bb24e4f6-8e0a-4f71-9993-ffd03856c725",
   "metadata": {},
   "outputs": [
    {
     "name": "stdout",
     "output_type": "stream",
     "text": [
      "Sorted Array:\n",
      "[1 2 3 4 5]\n"
     ]
    },
    {
     "data": {
      "text/plain": [
       "5"
      ]
     },
     "execution_count": 27,
     "metadata": {},
     "output_type": "execute_result"
    }
   ],
   "source": [
    "# Create an array\n",
    "arr = np.array([3, 1, 2, 5, 4])\n",
    "\n",
    "# Sort the array in ascending order \n",
    "sorted_arr = np.sort(arr)\n",
    "print(\"Sorted Array:\")\n",
    "print(sorted_arr)\n",
    "np.searchsorted(arr ,30)\n"
   ]
  },
  {
   "cell_type": "code",
   "execution_count": 28,
   "id": "c87fcce4-a9d4-4849-a427-5631466ee399",
   "metadata": {},
   "outputs": [
    {
     "name": "stdout",
     "output_type": "stream",
     "text": [
      "Index of Maximum Value: 3\n",
      "Index of Minimum Value: 1\n"
     ]
    }
   ],
   "source": [
    "# Create an array\n",
    "arr = np.array([3, 1, 2, 5, 4])\n",
    "\n",
    "# Find the index of the maximum value\n",
    "max_index = np.argmax(arr)\n",
    "print(\"Index of Maximum Value:\", max_index)\n",
    "\n",
    "# Find the index of the minimum value\n",
    "min_index = np.argmin(arr)\n",
    "print(\"Index of Minimum Value:\", min_index) "
   ]
  },
  {
   "cell_type": "code",
   "execution_count": 29,
   "id": "532f0587-3010-43e5-a27e-2783e709b90c",
   "metadata": {},
   "outputs": [
    {
     "name": "stdout",
     "output_type": "stream",
     "text": [
      "Number of Non-Zero Elements: 4\n"
     ]
    }
   ],
   "source": [
    "# Create an array\n",
    "arr = np.array([3, 1, 0, 5, 0, 4])\n",
    "\n",
    "# Count the number of non-zero elements\n",
    "count_nonzero = np.count_nonzero(arr)\n",
    "print(\"Number of Non-Zero Elements:\", count_nonzero)\n"
   ]
  },
  {
   "cell_type": "code",
   "execution_count": 30,
   "id": "fec23de2-1f25-4e1f-8fbf-da9ff2060653",
   "metadata": {},
   "outputs": [
    {
     "data": {
      "text/plain": [
       "(array([3, 5]),)"
      ]
     },
     "execution_count": 30,
     "metadata": {},
     "output_type": "execute_result"
    }
   ],
   "source": [
    "arr = np.array([3, 1, 0, 5, 0, 4])\n",
    "np.where(arr > 3)"
   ]
  },
  {
   "cell_type": "code",
   "execution_count": null,
   "id": "dd0e9c04-6fd6-48d4-82b0-e492f79b798a",
   "metadata": {},
   "outputs": [],
   "source": []
  }
 ],
 "metadata": {
  "kernelspec": {
   "display_name": "Python 3 (ipykernel)",
   "language": "python",
   "name": "python3"
  },
  "language_info": {
   "codemirror_mode": {
    "name": "ipython",
    "version": 3
   },
   "file_extension": ".py",
   "mimetype": "text/x-python",
   "name": "python",
   "nbconvert_exporter": "python",
   "pygments_lexer": "ipython3",
   "version": "3.10.8"
  }
 },
 "nbformat": 4,
 "nbformat_minor": 5
}
